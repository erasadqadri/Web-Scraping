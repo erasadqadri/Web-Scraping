{
 "cells": [
  {
   "cell_type": "markdown",
   "metadata": {},
   "source": [
    "### Install Essential Libraries:"
   ]
  },
  {
   "cell_type": "code",
   "execution_count": 1,
   "metadata": {},
   "outputs": [],
   "source": [
    "#! pip install BeautifulSoup4\n",
    "#pip install urllib"
   ]
  },
  {
   "cell_type": "markdown",
   "metadata": {},
   "source": [
    "### Import Essential Libraries:"
   ]
  },
  {
   "cell_type": "code",
   "execution_count": 2,
   "metadata": {},
   "outputs": [],
   "source": [
    "from bs4 import BeautifulSoup as soup\n",
    "from urllib.request import urlopen as uReq"
   ]
  },
  {
   "cell_type": "markdown",
   "metadata": {},
   "source": [
    "### Code:"
   ]
  },
  {
   "cell_type": "code",
   "execution_count": 3,
   "metadata": {},
   "outputs": [],
   "source": [
    "#URL that need to be scraped:\n",
    "my_url = 'https://www.flipkart.com/search?q=iphone+mobile+phone&sid=tyy%2C4io&as=on&as-show=on&otracker=AS_QueryStore_OrganicAutoSuggest_1_14_na_na_na&otracker1=AS_QueryStore_OrganicAutoSuggest_1_14_na_na_na&as-pos=1&as-type=RECENT&suggestionId=iphone+mobile+phone%7CMobiles&requestId=465d1364-df80-4903-86a6-0e334789ae43&as-backfill=on'"
   ]
  },
  {
   "cell_type": "code",
   "execution_count": 4,
   "metadata": {},
   "outputs": [],
   "source": [
    "# uReq => opens up the connection\n",
    "uClient = uReq(my_url)\n",
    "\n",
    "# read() will dump all the data which is gathered in the corresponding variable (page_html)\n",
    "page_html = uClient.read()\n",
    "uClient.close()"
   ]
  },
  {
   "cell_type": "code",
   "execution_count": 5,
   "metadata": {},
   "outputs": [],
   "source": [
    "# to Parse HTMl:\n",
    "page_soup = soup(page_html, \"html.parser\")"
   ]
  },
  {
   "cell_type": "markdown",
   "metadata": {},
   "source": [
    "###### TO FETCH DETAILS OF ONLY 1 CONTAINER (div class):"
   ]
  },
  {
   "cell_type": "code",
   "execution_count": 6,
   "metadata": {},
   "outputs": [
    {
     "name": "stdout",
     "output_type": "stream",
     "text": [
      "24\n"
     ]
    }
   ],
   "source": [
    "# findAll will basically find all the div tags which are class (in some cases it may be id also) and name of the div tag.\n",
    "containers = page_soup.findAll(\"div\", {\"class\": \"_13oc-S\"})\n",
    "print(len(containers)) #len is 24 because 24 products are there on that web page"
   ]
  },
  {
   "cell_type": "markdown",
   "metadata": {},
   "source": [
    "###### TO FETCH DETAILS OF EACH PRODUCT PRESENT ON THAT WEB PAGE\n",
    "\n",
    "for which we need to traverse the dome elements"
   ]
  },
  {
   "cell_type": "code",
   "execution_count": 7,
   "metadata": {},
   "outputs": [
    {
     "name": "stdout",
     "output_type": "stream",
     "text": [
      "<div class=\"_13oc-S\">\n",
      " <div data-id=\"MOBFWQ6BVWVEH3XE\" style=\"width:100%\">\n",
      "  <div class=\"_2kHMtA\">\n",
      "   <a class=\"_1fQZEK\" href=\"/apple-iphone-11-white-64-gb/p/itmfc6a7091eb20b?pid=MOBFWQ6BVWVEH3XE&amp;lid=LSTMOBFWQ6BVWVEH3XESAHPTP&amp;marketplace=FLIPKART&amp;q=iphone+mobile+phone&amp;store=tyy%2F4io&amp;srno=s_1_1&amp;otracker=AS_QueryStore_OrganicAutoSuggest_1_14_na_na_na&amp;otracker1=AS_QueryStore_OrganicAutoSuggest_1_14_na_na_na&amp;fm=organic&amp;iid=172defcc-1ef5-4067-b7fe-fef0dddb1115.MOBFWQ6BVWVEH3XE.SEARCH&amp;ssid=1a8cwpspj40000001616256228483&amp;qH=1032a84b3094b145\" rel=\"noopener noreferrer\" target=\"_blank\">\n",
      "    <div class=\"MIXNux\">\n",
      "     <div class=\"_2QcLo-\">\n",
      "      <div>\n",
      "       <div class=\"CXW8mj\" style=\"height:200px;width:200px\">\n",
      "        <img alt=\"APPLE iPhone 11 (White, 64 GB)\" class=\"_396cs4\" src=\"//static-assets-web.flixcart.com/www/linchpin/fk-cp-zion/img/placeholder_fcebae.svg\"/>\n",
      "       </div>\n",
      "      </div>\n",
      "     </div>\n",
      "     <div class=\"_3wLduG\">\n",
      "      <div class=\"_3PzNI-\">\n",
      "       <span class=\"f3A4_V\">\n",
      "        <label class=\"_2iDkf8\">\n",
      "         <input class=\"_30VH1S\" readonly=\"\" type=\"checkbox\"/>\n",
      "         <div class=\"_24_Dny\">\n",
      "         </div>\n",
      "        </label>\n",
      "       </span>\n",
      "       <label class=\"_6Up2sF\">\n",
      "        <span>\n",
      "         Add to Compare\n",
      "        </span>\n",
      "       </label>\n",
      "      </div>\n",
      "     </div>\n",
      "     <div class=\"_2hVSre _3nq8ih\">\n",
      "      <div class=\"_36FSn5\">\n",
      "       <svg class=\"_1l0elc\" height=\"16\" viewbox=\"0 0 20 16\" width=\"16\" xmlns=\"http://www.w3.org/2000/svg\">\n",
      "        <path class=\"eX72wL\" d=\"M8.695 16.682C4.06 12.382 1 9.536 1 6.065 1 3.219 3.178 1 5.95 1c1.566 0 3.069.746 4.05 1.915C10.981 1.745 12.484 1 14.05 1 16.822 1 19 3.22 19 6.065c0 3.471-3.06 6.316-7.695 10.617L10 17.897l-1.305-1.215z\" fill=\"#2874F0\" fill-rule=\"evenodd\" opacity=\".9\" stroke=\"#FFF\">\n",
      "        </path>\n",
      "       </svg>\n",
      "      </div>\n",
      "     </div>\n",
      "    </div>\n",
      "    <div class=\"_3pLy-c row\">\n",
      "     <div class=\"col col-7-12\">\n",
      "      <div class=\"_4rR01T\">\n",
      "       APPLE iPhone 11 (White, 64 GB)\n",
      "      </div>\n",
      "      <div class=\"gUuXy-\">\n",
      "       <span class=\"_1lRcqv\" id=\"productRating_LSTMOBFWQ6BVWVEH3XESAHPTP_MOBFWQ6BVWVEH3XE_\">\n",
      "        <div class=\"_3LWZlK\">\n",
      "         4.6\n",
      "         <img class=\"_1wB99o\" src=\"data:image/svg+xml;base64,PHN2ZyB4bWxucz0iaHR0cDovL3d3dy53My5vcmcvMjAwMC9zdmciIHdpZHRoPSIxMyIgaGVpZ2h0PSIxMiI+PHBhdGggZmlsbD0iI0ZGRiIgZD0iTTYuNSA5LjQzOWwtMy42NzQgMi4yMy45NC00LjI2LTMuMjEtMi44ODMgNC4yNTQtLjQwNEw2LjUuMTEybDEuNjkgNC4wMSA0LjI1NC40MDQtMy4yMSAyLjg4Mi45NCA0LjI2eiIvPjwvc3ZnPg==\"/>\n",
      "        </div>\n",
      "       </span>\n",
      "       <span class=\"_2_R_DZ\">\n",
      "        <span>\n",
      "         <span>\n",
      "          36,124 Ratings\n",
      "         </span>\n",
      "         <span class=\"_13vcmD\">\n",
      "          &amp;\n",
      "         </span>\n",
      "         <span>\n",
      "          2,804 Reviews\n",
      "         </span>\n",
      "        </span>\n",
      "       </span>\n",
      "      </div>\n",
      "      <div class=\"fMghEO\">\n",
      "       <ul class=\"_1xgFaf\">\n",
      "        <li class=\"rgWa7D\">\n",
      "         64 GB ROM\n",
      "        </li>\n",
      "        <li class=\"rgWa7D\">\n",
      "         15.49 cm (6.1 inch) Liquid Retina HD Display\n",
      "        </li>\n",
      "        <li class=\"rgWa7D\">\n",
      "         12MP + 12MP | 12MP Front Camera\n",
      "        </li>\n",
      "        <li class=\"rgWa7D\">\n",
      "         A13 Bionic Chip Processor\n",
      "        </li>\n",
      "        <li class=\"rgWa7D\">\n",
      "         Brand Warranty of 1 Year\n",
      "        </li>\n",
      "       </ul>\n",
      "      </div>\n",
      "     </div>\n",
      "     <div class=\"col col-5-12 nlI3QM\">\n",
      "      <div class=\"_3tbKJL\">\n",
      "       <div class=\"_25b18c\">\n",
      "        <div class=\"_30jeq3 _1_WHN1\">\n",
      "         ₹46,999\n",
      "        </div>\n",
      "        <div class=\"_3I9_wc _27UcVY\">\n",
      "         ₹\n",
      "         <!-- -->\n",
      "         54,900\n",
      "        </div>\n",
      "        <div class=\"_3Ay6Sb\">\n",
      "         <span>\n",
      "          14% off\n",
      "         </span>\n",
      "        </div>\n",
      "       </div>\n",
      "      </div>\n",
      "      <div class=\"_13J9qT\">\n",
      "       <img height=\"21\" src=\"//static-assets-web.flixcart.com/www/linchpin/fk-cp-zion/img/fa_62673a.png\"/>\n",
      "      </div>\n",
      "      <div class=\"_2ZdXDB\">\n",
      "       <div class=\"_18hQoS\" style=\"color:#000000;font-size:12px;font-family:inherit;font-weight:normal\">\n",
      "        No Cost EMI\n",
      "       </div>\n",
      "      </div>\n",
      "      <div class=\"_2ZdXDB\">\n",
      "       <div class=\"_18hQoS\" style=\"color:#000000;font-size:14px;font-family:inherit;font-weight:normal\">\n",
      "        Upto\n",
      "       </div>\n",
      "       <div class=\"_18hQoS\" style=\"color:#000000;font-size:14px;font-family:inherit;font-weight:bold\">\n",
      "        ₹16,500\n",
      "       </div>\n",
      "       <div class=\"_18hQoS\" style=\"color:#000000;font-size:14px;font-family:inherit;font-weight:normal\">\n",
      "        Off on Exchange\n",
      "       </div>\n",
      "      </div>\n",
      "     </div>\n",
      "    </div>\n",
      "   </a>\n",
      "  </div>\n",
      " </div>\n",
      "</div>\n"
     ]
    }
   ],
   "source": [
    "# prettify brings html in a structured or organized format\n",
    "print(soup.prettify(containers[0]))"
   ]
  },
  {
   "cell_type": "code",
   "execution_count": 8,
   "metadata": {},
   "outputs": [
    {
     "name": "stdout",
     "output_type": "stream",
     "text": [
      "APPLE iPhone 11 (White, 64 GB)\n"
     ]
    }
   ],
   "source": [
    "# for traversing:\n",
    "container = containers[0]\n",
    "print(container.div.img['alt']) #alt is an attribute and should always be in []\n",
    "\n",
    "#Output: Is the first title of the phone on that web page"
   ]
  },
  {
   "cell_type": "code",
   "execution_count": 9,
   "metadata": {},
   "outputs": [
    {
     "name": "stdout",
     "output_type": "stream",
     "text": [
      "₹46,999₹54,90014% offNo Cost EMIUpto ₹16,500 Off on Exchange\n"
     ]
    }
   ],
   "source": [
    "#for price\n",
    "price = container.findAll(\"div\", {\"class\": \"col col-5-12 nlI3QM\"})\n",
    "print(price[0].text)   #text because price is not inclusive of any of the tags"
   ]
  },
  {
   "cell_type": "code",
   "execution_count": 10,
   "metadata": {},
   "outputs": [
    {
     "name": "stdout",
     "output_type": "stream",
     "text": [
      "4.636,124 Ratings & 2,804 Reviews\n"
     ]
    }
   ],
   "source": [
    "#for rating\n",
    "ratings = container.findAll(\"div\", {\"class\": \"gUuXy-\"})\n",
    "print(ratings[0].text)"
   ]
  },
  {
   "cell_type": "code",
   "execution_count": 11,
   "metadata": {},
   "outputs": [
    {
     "data": {
      "text/plain": [
       "30"
      ]
     },
     "execution_count": 11,
     "metadata": {},
     "output_type": "execute_result"
    }
   ],
   "source": [
    "#To show all this in a file: (title, price, rating)\n",
    "f = open(\"Flipkart_Product.csv\",\"w\")\n",
    "\n",
    "headers = \"Product_Name, Pricing, Rating\\n\" #because csv file do have headers so added it manually\n",
    "f.write(headers)"
   ]
  },
  {
   "cell_type": "code",
   "execution_count": 13,
   "metadata": {},
   "outputs": [
    {
     "name": "stdout",
     "output_type": "stream",
     "text": [
      "APPLE iPhone 11 (White| 64 GB),Rs.46999,4.636124\n",
      "\n",
      "APPLE iPhone 11 (Black| 64 GB),Rs.46999,4.636124\n",
      "\n",
      "Apple iPhone XR (Black| 64 GB) (Includes EarPods| Power Adapter),Rs.38999,4.677494\n",
      "\n",
      "APPLE iPhone 11 (Purple| 64 GB),Rs.46999,4.636124\n",
      "\n",
      "APPLE iPhone 11 (Green| 64 GB),Rs.46999,4.636124\n",
      "\n",
      "APPLE iPhone 11 (Black| 128 GB),Rs.53999,4.636124\n",
      "\n",
      "Apple iPhone XR (Black| 128 GB) (Includes EarPods| Power Adapter),Rs.43999,4.677494\n",
      "\n",
      "APPLE iPhone 11 (Red| 64 GB),Rs.46999,4.636124\n",
      "\n",
      "Apple iPhone XR (White| 128 GB) (Includes EarPods| Power Adapter),Rs.43999,4.677494\n",
      "\n",
      "Apple iPhone XR ((PRODUCT)RED| 128 GB) (Includes EarPods| Power Adapter),Rs.43999,4.677494\n",
      "\n",
      "Apple iPhone XR (Coral| 128 GB) (Includes EarPods| Power Adapter),Rs.43999,4.677494\n",
      "\n",
      "APPLE iPhone 11 (Red| 128 GB),Rs.53999,4.636124\n",
      "\n",
      "Apple iPhone SE (Black| 256 GB) (Includes EarPods| Power Adapter),Rs.44999,4.593101\n",
      "\n",
      "Apple iPhone SE (Red| 256 GB) (Includes EarPods| Power Adapter),Rs.44999,4.593101\n",
      "\n",
      "APPLE iPhone 12 (Blue| 128 GB),Rs.84900,4.71884\n",
      "\n",
      "APPLE iPhone SE (White| 64 GB),Rs.29999,4.593101\n",
      "\n",
      "APPLE iPhone 12 (White| 64 GB),Rs.79900,4.71884\n",
      "\n",
      "APPLE iPhone 11 Pro (Midnight Green| 64 GB),Rs.79999,4.66987\n",
      "\n",
      "Apple iPhone 11 (Purple| 128 GB) (Includes EarPods| Power Adapter),Rs.53999,4.636124\n",
      "\n",
      "Apple iPhone XR (White| 64 GB) (Includes EarPods| Power Adapter),Rs.38999,4.677494\n",
      "\n",
      "APPLE iPhone 12 Pro Max (Pacific Blue| 512 GB),Rs.159900,4.6549\n",
      "\n",
      "APPLE iPhone 12 (Black| 64 GB),Rs.79900,4.71884\n",
      "\n",
      "Apple iPhone XR (Blue| 64 GB) (Includes EarPods| Power Adapter),Rs.38999,4.677494\n",
      "\n",
      "APPLE iPhone 12 (White| 256 GB),Rs.94900,4.71884\n",
      "\n"
     ]
    }
   ],
   "source": [
    "for container in containers: #containers is the main class where all the features are present\n",
    "    product_name = container.div.img['alt']\n",
    "    \n",
    "    price_container = container.findAll(\"div\", {\"class\": \"col col-5-12 nlI3QM\"})\n",
    "    price = price_container[0].text.strip()  #strip() eleminates all unnecessary \",\" or spaces which are present on the web page\n",
    "    \n",
    "    rating_container = container.findAll(\"div\", {\"class\": \"gUuXy-\"})\n",
    "    rating = rating_container[0].text\n",
    "    \n",
    "#     print(\"Product Name: \" + product_name)\n",
    "#     print(\"Price: \" + price)\n",
    "#     print(\"Rating: \" + rating)\n",
    "#     print(\" \")\n",
    "\n",
    "    # here we need only the price and not the details of EMI or anything else.\n",
    "    trim_price = ''.join(price.split(','))\n",
    "    rm_rupee = trim_price.split('₹')\n",
    "    add_rs_price = \"Rs.\" + rm_rupee[1]\n",
    "    split_price = add_rs_price.split('N')\n",
    "    final_price = split_price[0]\n",
    "    \n",
    "    trim_rating = ''.join(rating.split(','))\n",
    "    split_rating = trim_rating.split(\" \")\n",
    "    final_rating = split_rating[0]\n",
    "    \n",
    "#     print(\"Product Name: \" + product_name)\n",
    "#     print(\"Price: \" + final_price)\n",
    "#     print(\"Rating: \" + final_rating)\n",
    "#     print(\" \")\n",
    "    \n",
    "    final_csv = product_name.replace(\",\",\"|\")+\",\"+final_price+\",\"+final_rating+\"\\n\"\n",
    "    print(final_csv)\n",
    "    f.write(final_csv)\n",
    "\n",
    "f.close()"
   ]
  }
 ],
 "metadata": {
  "kernelspec": {
   "display_name": "Python 3",
   "language": "python",
   "name": "python3"
  },
  "language_info": {
   "codemirror_mode": {
    "name": "ipython",
    "version": 3
   },
   "file_extension": ".py",
   "mimetype": "text/x-python",
   "name": "python",
   "nbconvert_exporter": "python",
   "pygments_lexer": "ipython3",
   "version": "3.8.3"
  }
 },
 "nbformat": 4,
 "nbformat_minor": 4
}
